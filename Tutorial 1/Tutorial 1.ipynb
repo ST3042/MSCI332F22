{
  "nbformat": 4,
  "nbformat_minor": 0,
  "metadata": {
    "colab": {
      "provenance": []
    },
    "kernelspec": {
      "name": "python3",
      "display_name": "Python 3"
    },
    "language_info": {
      "name": "python"
    }
  },
  "cells": [
    {
      "cell_type": "markdown",
      "source": [
        "# **MSCI 332 Tutorial 1**\n",
        "\n",
        "This tutorial will be a hands-on, so don't forget to bring your laptops!\n",
        "\n",
        "[Colab notebook link](https://colab.research.google.com/drive/1F6bcQipE0uBD1sRqG4V48rW-rxrT2zjg?usp=sharing).\n",
        "\n",
        "## Setting up the programming environment\n",
        "\n",
        "There are three main options available:\n",
        "- Using Google Colab: no installation requirement, a google account is necessary, probably has a poorer performance compared to running code in your computer, unavailable offline.\n",
        "- Using [Jupyter](https://jupyter.org/install): more or less the same layout with Colab, needs to be installed, available offline.\n",
        "- Using other IDE's ([PyCharm](https://www.jetbrains.com/pycharm/), [VS Code](https://code.visualstudio.com/docs/languages/python), [Spyder](https://www.spyder-ide.org/), [others](https://www.google.com/search?q=python+ide+list&oq=python+ide+list)): better suited coding environment, useful coding and debugging tools, some can also work with notebooks.\n",
        "\n",
        "Tutorials will utilize Google Colab, so you should decide and setup your preferred programming environment before the first tutorial. [This link](https://support.gurobi.com/hc/en-us/articles/360044290292-How-do-I-install-Gurobi-for-Python-) details the installation process for gurobi in python. In case you run into licensing issues, follow [this link](https://www.gurobi.com/academia/academic-program-and-licenses/).\n",
        "\n",
        "## Setting up Gurobi on Google Colab\n",
        "\n",
        "It's as easy as running the command:"
      ],
      "metadata": {
        "id": "V1eD3igw5fhL"
      }
    },
    {
      "cell_type": "code",
      "source": [
        "!pip install gurobipy>=9.5.1\n",
        "import gurobipy as gp\n",
        "from gurobipy import GRB as GRB"
      ],
      "metadata": {
        "id": "FgD5P_GT9xGW"
      },
      "execution_count": null,
      "outputs": []
    },
    {
      "cell_type": "markdown",
      "source": [
        "## Adding a license key\n",
        "\n",
        "If your model exceeds the variable limit in the unlicensed version (more than 2000 variables and 2000 constraints), you can apply your academic license with the following command:"
      ],
      "metadata": {
        "id": "kr6uzX0q_w50"
      }
    },
    {
      "cell_type": "code",
      "source": [
        "# Create environment with WLS license\n",
        "e = gp.Env(empty=True)\n",
        "e.setParam('WLSACCESSID', 'your wls accessid (string)')\n",
        "e.setParam('WLSSECRET', 'your wls secret (string)')\n",
        "e.setParam('LICENSEID', <your license id (integer)>)\n",
        "e.start()\n",
        "\n",
        "# Create the model within the Gurobi environment\n",
        "model = gp.Model(env=e)"
      ],
      "metadata": {
        "colab": {
          "base_uri": "https://localhost:8080/"
        },
        "id": "-rBGltuGAWv0",
        "outputId": "42c93087-d5a3-49e3-be36-be8251d6641f"
      },
      "execution_count": null,
      "outputs": [
        {
          "output_type": "stream",
          "name": "stdout",
          "text": [
            "Set parameter WLSAccessID\n",
            "Set parameter WLSSecret\n",
            "Set parameter LicenseID\n",
            "Academic license - for non-commercial use only - registered to sturhan@uwaterloo.ca\n"
          ]
        }
      ]
    },
    {
      "cell_type": "markdown",
      "source": [
        "You can follow [this link](https://support.gurobi.com/hc/en-us/articles/4409582394769-Google-Colab-Installation-and-Licensing) ('Full Gurobi License using WLS' section) to see how to get a license and locate these credentials. If you are using a local IDE such as Jupyter, Spyder or Pycharm to view this file, the license you enter with *grbgetkey* should still be valid."
      ],
      "metadata": {
        "id": "CSvmTFAVAcVc"
      }
    },
    {
      "cell_type": "markdown",
      "source": [
        "## Example Model\n",
        "\n",
        "Farmer Ash has two farms that grow wheat and corn. Because of differing soil conditions, there are differences in yield and costs of growing crops on two farms. The yield and cost data is shown on the table below.\n",
        "\n",
        "$$\n",
        "\\begin{array}{||c|c|c||}\\hline\n",
        "&\\text{Farm 1}&\\text{Farm 1}\\\\\\hline\n",
        "\\text{Corn yield/acre (bushels)}&50&40\\\\\\hline\n",
        "\\text{Cost/acre of corn (\\$)}&100&120\\\\\\hline\n",
        "\\text{Wheat yield/acre (bushels)}&65&35\\\\\\hline\n",
        "\\text{Cost/acre of wheat (\\$)}&90&80\\\\\\hline\n",
        "\\text{Cultivation Area (acres)}&180&200\\\\\\hline\n",
        "\\end{array}\n",
        "$$\n",
        "\n",
        "Farm 1 has 180 acres and farm 2 has 200 acres available for cultivation. Based on the recently received orders, 11,000 bushels of wheat and 7,000 bushels of corn must be grown. Determine a planting plan to help Ash to minimize the cost while satisfying the order amounts.\n",
        "\n",
        "Formulate the given problem as a linear optimization problem. Define the variables you use explicitly."
      ],
      "metadata": {
        "id": "__oP6xUY8-nb"
      }
    },
    {
      "cell_type": "markdown",
      "source": [
        "$x_{ij}$: total area (acres) dedicated for plant type $i\\in\\{1,2\\}$, in farm $j\\in\\{1,2\\}$ \n",
        "\n",
        "$$\n",
        "\\begin{align}\n",
        "\\min \\quad & 100 x_{11} + 120 x_{12} + 90 x_{21} + 80 x_{22}\\\\\n",
        "\\text{s.t.}\\quad & 50 x_{11} + 40 x_{12} \\geq 7000\\\\\n",
        "& 65 x_{21} + 35 x_{22} \\geq 11000\\\\\n",
        "& x_{11} + x_{21} \\leq 180\\\\\n",
        "& x_{21} + x_{22} \\leq 200\\\\\n",
        "& 0 \\leq x_{ij} & \\forall i\\in \\{1,2\\}, j\\in \\{1,2\\}\n",
        "\\end{align}\n",
        "$$"
      ],
      "metadata": {
        "id": "SEJvt5gX7Fj-"
      }
    },
    {
      "cell_type": "code",
      "execution_count": null,
      "metadata": {
        "colab": {
          "base_uri": "https://localhost:8080/"
        },
        "id": "5kdYcnjF5aEd",
        "outputId": "7be76476-3a10-4141-ce30-5c87b279a818"
      },
      "outputs": [
        {
          "output_type": "stream",
          "name": "stdout",
          "text": [
            "Gurobi Optimizer version 9.5.2 build v9.5.2rc0 (linux64)\n",
            "Thread count: 1 physical cores, 2 logical processors, using up to 2 threads\n",
            "Optimize a model with 4 rows, 4 columns and 8 nonzeros\n",
            "Model fingerprint: 0x74268c72\n",
            "Coefficient statistics:\n",
            "  Matrix range     [1e+00, 6e+01]\n",
            "  Objective range  [8e+01, 1e+02]\n",
            "  Bounds range     [0e+00, 0e+00]\n",
            "  RHS range        [2e+02, 1e+04]\n",
            "Presolve time: 0.01s\n",
            "Presolved: 4 rows, 4 columns, 8 nonzeros\n",
            "\n",
            "Iteration    Objective       Primal Inf.    Dual Inf.      Time\n",
            "       0    0.0000000e+00   2.250000e+03   0.000000e+00      0s\n",
            "       3    3.5692308e+04   0.000000e+00   0.000000e+00      0s\n",
            "\n",
            "Solved in 3 iterations and 0.02 seconds (0.00 work units)\n",
            "Optimal objective  3.569230769e+04\n",
            "x 0 0 = 10.769230769230774\n",
            "x 0 1 = 161.53846153846152\n",
            "x 1 0 = 169.23076923076923\n",
            "x 1 1 = 0.0\n"
          ]
        }
      ],
      "source": [
        "# on google colab and with license\n",
        "# model = gp.Model(\"model_name_without_space\", env=e)\n",
        "# local notebook or google colab without license\n",
        "model = gp.Model(\"model_name_without_space\")\n",
        "# decision variables\n",
        "x = model.addVars(2, 2, lb=0.0, vtype=GRB.CONTINUOUS, name=\"x\")\n",
        "# setting the objective\n",
        "model.setObjective(100 * x[0, 0] + 120 * x[0, 1] + 90 * x[1, 0] + 80 * x[1, 1],\n",
        "                   sense=GRB.MINIMIZE)\n",
        "# adding the constraints\n",
        "model.addConstr(50 * x[0, 0] + 40 * x[0, 1] >= 7e3, name=\"corn_requirement\")\n",
        "model.addConstr(65 * x[1, 0] + 35 * x[1, 1] >= 11e3, name=\"wheat_requirement\")\n",
        "model.addConstr(x[0, 0] + x[1, 0] <= 180, name=\"farm1_area_limit\")\n",
        "model.addConstr(x[1, 0] + x[1, 1] <= 200, name=\"farm2_area_limit\")\n",
        "# solving the model\n",
        "model.optimize()\n",
        "# printing out the optimal variables\n",
        "for (i, j), variable in x.items():\n",
        "  print(f\"x {i} {j} = {variable.X}\")"
      ]
    },
    {
      "cell_type": "markdown",
      "source": [
        "It's possible to make output much more readable by utilizing custom printing functions:"
      ],
      "metadata": {
        "id": "7QsjPzo3IK3y"
      }
    },
    {
      "cell_type": "code",
      "source": [
        "for (i, j), variable in x.items():\n",
        "  print(f\"Area dedicated for {'corn' if i == 0 else 'wheat'} in farm {j} is \"\n",
        "        f\"{variable.X: .2f} acres\")"
      ],
      "metadata": {
        "colab": {
          "base_uri": "https://localhost:8080/"
        },
        "id": "tO6JaqBrIRmq",
        "outputId": "29536015-521e-48e0-951c-c11d654c3c2c"
      },
      "execution_count": null,
      "outputs": [
        {
          "output_type": "stream",
          "name": "stdout",
          "text": [
            "Area dedicated for corn in farm 0 is  10.77 acres\n",
            "Area dedicated for corn in farm 1 is  161.54 acres\n",
            "Area dedicated for wheat in farm 0 is  169.23 acres\n",
            "Area dedicated for wheat in farm 1 is  0.00 acres\n"
          ]
        }
      ]
    },
    {
      "cell_type": "markdown",
      "source": [
        "A complex model can get difficult to debug just by looking at the code, we can export the model in any one of the supported formats by calling model.write() function:"
      ],
      "metadata": {
        "id": "9Wk5bYxAK2SS"
      }
    },
    {
      "cell_type": "code",
      "source": [
        "model.write(\"model.lp\")   # usually the easiest to read\n",
        "model.write(\"model.mps\")  # oldest version\n",
        "model.write(\"model.rew\")  # similar to mps\n",
        "# printing lp output (in case you are browsing this file offline)\n",
        "with open(\"model.lp\", 'r') as f: print(\"\\n\".join(f.readlines()))"
      ],
      "metadata": {
        "colab": {
          "base_uri": "https://localhost:8080/"
        },
        "id": "ceGw1Md3LTPb",
        "outputId": "5c3102ce-b34a-4a32-d569-957c4507e40e"
      },
      "execution_count": null,
      "outputs": [
        {
          "output_type": "stream",
          "name": "stdout",
          "text": [
            "\\ Model model_name_without_space\n",
            "\n",
            "\\ LP format - for model browsing. Use MPS format to capture full model detail.\n",
            "\n",
            "Minimize\n",
            "\n",
            "  100 x[0,0] + 120 x[0,1] + 90 x[1,0] + 80 x[1,1]\n",
            "\n",
            "Subject To\n",
            "\n",
            " corn_requirement: 50 x[0,0] + 40 x[0,1] >= 7000\n",
            "\n",
            " wheat_requirement: 65 x[1,0] + 35 x[1,1] >= 11000\n",
            "\n",
            " farm1_area_limit: x[0,0] + x[1,0] <= 180\n",
            "\n",
            " farm2_area_limit: x[1,0] + x[1,1] <= 200\n",
            "\n",
            "Bounds\n",
            "\n",
            "End\n",
            "\n"
          ]
        }
      ]
    },
    {
      "cell_type": "markdown",
      "source": [
        "You can also read a generated model file and re-construct the model:"
      ],
      "metadata": {
        "id": "e2hWDJSsT3JV"
      }
    },
    {
      "cell_type": "code",
      "source": [
        "import re  # for reading variables\n",
        "\n",
        "model2 = gp.read(\"model.lp\")\n",
        "model2.optimize()\n",
        "# reading an existing variable is a bit tricky, we can only differentiate\n",
        "# between variables by their names in the provided file\n",
        "print(\"Printing variable values in optimal solution\")\n",
        "x2 = {}  # it'll be set individually\n",
        "\n",
        "for variable in model2.getVars():\n",
        "  print(f\"{variable.VarName} = {variable.X}\")\n",
        "\n",
        "  # extracting the variable information from name, you can just use this regex\n",
        "  # to read any variable in format: variable_name[index1,index2]\n",
        "\n",
        "  m = re.findall(\"(.*?)\\[(\\d*?),(\\d*?)\\]\", variable.VarName)[0]\n",
        "  \n",
        "  variable_name = m[0] # useful when you have multiple variables\n",
        "  index1 = int(m[1])   # each match is still a string object\n",
        "  index2 = int(m[2])\n",
        "\n",
        "  x2[index1, index2] = variable\n",
        "\n",
        "# we can use the same print function:\n",
        "for (i, j), variable in x2.items():\n",
        "  print(f\"Area dedicated for {'corn' if i == 0 else 'wheat'} in farm {j} is \"\n",
        "        f\"{variable.X: .2f} acres\")\n",
        "\n",
        "# disposing the model\n",
        "model2.dispose()"
      ],
      "metadata": {
        "colab": {
          "base_uri": "https://localhost:8080/"
        },
        "id": "KHlGOnpZT-rF",
        "outputId": "d7c555e0-b88c-4b0c-d2a8-58f3cceab34a"
      },
      "execution_count": null,
      "outputs": [
        {
          "output_type": "stream",
          "name": "stdout",
          "text": [
            "Read LP format model from file model.lp\n",
            "Reading time = 0.00 seconds\n",
            ": 4 rows, 4 columns, 8 nonzeros\n",
            "Gurobi Optimizer version 9.5.2 build v9.5.2rc0 (linux64)\n",
            "Thread count: 1 physical cores, 2 logical processors, using up to 2 threads\n",
            "Optimize a model with 4 rows, 4 columns and 8 nonzeros\n",
            "Model fingerprint: 0x74268c72\n",
            "Coefficient statistics:\n",
            "  Matrix range     [1e+00, 6e+01]\n",
            "  Objective range  [8e+01, 1e+02]\n",
            "  Bounds range     [0e+00, 0e+00]\n",
            "  RHS range        [2e+02, 1e+04]\n",
            "Presolve time: 0.01s\n",
            "Presolved: 4 rows, 4 columns, 8 nonzeros\n",
            "\n",
            "Iteration    Objective       Primal Inf.    Dual Inf.      Time\n",
            "       0    0.0000000e+00   2.250000e+03   0.000000e+00      0s\n",
            "       3    3.5692308e+04   0.000000e+00   0.000000e+00      0s\n",
            "\n",
            "Solved in 3 iterations and 0.02 seconds (0.00 work units)\n",
            "Optimal objective  3.569230769e+04\n",
            "Printing variable values in optimal solution\n",
            "x[0,0] = 10.769230769230774\n",
            "x[0,1] = 161.53846153846152\n",
            "x[1,0] = 169.23076923076923\n",
            "x[1,1] = 0.0\n",
            "Area dedicated for corn in farm 0 is  10.77 acres\n",
            "Area dedicated for corn in farm 1 is  161.54 acres\n",
            "Area dedicated for wheat in farm 0 is  169.23 acres\n",
            "Area dedicated for wheat in farm 1 is  0.00 acres\n"
          ]
        }
      ]
    },
    {
      "cell_type": "markdown",
      "source": [
        "## Errors in Python Notebooks\n",
        "\n",
        "Since python is a dynamic language, it works really well with the arbitrary, cell-based input of the notebooks. However, this functionality can make it easier to encounter errors or unintended behaviours, especially with models. So here are some suggestions to avoid such situations:\n",
        "\n",
        "- Always declare the entire model in one cell: gp.Model() call, variables and constraints.\n",
        "- Avoid using one variable name multiple times when implementing multiple models in the same notebook.\n",
        "- Use an underscore instead of spaces when naming model variables ('name' attribute) to ensure that models are exported correctly.\n",
        "- Restart runtime when memory usage is high, unless you are closing models with model.dispose()."
      ],
      "metadata": {
        "id": "KVrD4qMVQUb7"
      }
    }
  ]
}